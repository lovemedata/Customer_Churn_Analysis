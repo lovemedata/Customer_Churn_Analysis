{
 "cells": [
  {
   "cell_type": "code",
   "execution_count": 1,
   "id": "87378da1",
   "metadata": {},
   "outputs": [],
   "source": [
    "import pandas as pd \n",
    "import numpy as np \n",
    "import matplotlib.pyplot as plt \n",
    "import seaborn as sns"
   ]
  },
  {
   "cell_type": "code",
   "execution_count": 2,
   "id": "169f6659",
   "metadata": {},
   "outputs": [],
   "source": [
    "# Load the dataset \n",
    "df1 = pd.read_csv(\"C:\\\\Users\\\\Akon.usoh\\\\Desktop\\\\PERSONAL\\\\2023 PROJECTS\\\\DATASETS\\\\telecom_churn.csv\")"
   ]
  },
  {
   "cell_type": "code",
   "execution_count": 3,
   "id": "67018154",
   "metadata": {},
   "outputs": [],
   "source": [
    "df= df1.copy()"
   ]
  },
  {
   "cell_type": "code",
   "execution_count": 4,
   "id": "642b7a09",
   "metadata": {},
   "outputs": [
    {
     "data": {
      "text/html": [
       "<div>\n",
       "<style scoped>\n",
       "    .dataframe tbody tr th:only-of-type {\n",
       "        vertical-align: middle;\n",
       "    }\n",
       "\n",
       "    .dataframe tbody tr th {\n",
       "        vertical-align: top;\n",
       "    }\n",
       "\n",
       "    .dataframe thead th {\n",
       "        text-align: right;\n",
       "    }\n",
       "</style>\n",
       "<table border=\"1\" class=\"dataframe\">\n",
       "  <thead>\n",
       "    <tr style=\"text-align: right;\">\n",
       "      <th></th>\n",
       "      <th>Name</th>\n",
       "      <th>Email_Address</th>\n",
       "      <th>Phone_Number</th>\n",
       "      <th>MonthlyCharge</th>\n",
       "      <th>TotalCharges</th>\n",
       "      <th>Gender</th>\n",
       "      <th>PaymentMethod</th>\n",
       "      <th>TechSupport</th>\n",
       "      <th>Dependents</th>\n",
       "      <th>InternetService</th>\n",
       "      <th>...</th>\n",
       "      <th>OnlineSecurity</th>\n",
       "      <th>PaperlessBilling</th>\n",
       "      <th>StreamingMovies</th>\n",
       "      <th>Contract</th>\n",
       "      <th>OnlineBackup</th>\n",
       "      <th>PhoneService</th>\n",
       "      <th>StreamingTV</th>\n",
       "      <th>DeviceProtection</th>\n",
       "      <th>Partner</th>\n",
       "      <th>Churn</th>\n",
       "    </tr>\n",
       "  </thead>\n",
       "  <tbody>\n",
       "    <tr>\n",
       "      <th>0</th>\n",
       "      <td>Maxwell Mcgee</td>\n",
       "      <td>MaxwellMcgee@akon.cloud</td>\n",
       "      <td>2346236787784</td>\n",
       "      <td>60564</td>\n",
       "      <td>6.564859e+08</td>\n",
       "      <td>Male</td>\n",
       "      <td>Bank transfer (automatic)</td>\n",
       "      <td>Yes</td>\n",
       "      <td>No</td>\n",
       "      <td>DSL</td>\n",
       "      <td>...</td>\n",
       "      <td>Yes</td>\n",
       "      <td>Yes</td>\n",
       "      <td>Yes</td>\n",
       "      <td>Month-to-month</td>\n",
       "      <td>Yes</td>\n",
       "      <td>Yes</td>\n",
       "      <td>Yes</td>\n",
       "      <td>Yes</td>\n",
       "      <td>Yes</td>\n",
       "      <td>Yes</td>\n",
       "    </tr>\n",
       "    <tr>\n",
       "      <th>1</th>\n",
       "      <td>Hannah Connor</td>\n",
       "      <td>HannahConnor@akon.cloud</td>\n",
       "      <td>2341587604506</td>\n",
       "      <td>15683</td>\n",
       "      <td>9.137371e+08</td>\n",
       "      <td>Female</td>\n",
       "      <td>Credit card (automatic)</td>\n",
       "      <td>Yes</td>\n",
       "      <td>Yes</td>\n",
       "      <td>DSL</td>\n",
       "      <td>...</td>\n",
       "      <td>Yes</td>\n",
       "      <td>Yes</td>\n",
       "      <td>Yes</td>\n",
       "      <td>Month-to-month</td>\n",
       "      <td>Yes</td>\n",
       "      <td>Yes</td>\n",
       "      <td>Yes</td>\n",
       "      <td>Yes</td>\n",
       "      <td>No</td>\n",
       "      <td>Yes</td>\n",
       "    </tr>\n",
       "    <tr>\n",
       "      <th>2</th>\n",
       "      <td>Rosemary Alexander</td>\n",
       "      <td>RosemaryAlexander@akon.cloud</td>\n",
       "      <td>2345264828126</td>\n",
       "      <td>56857</td>\n",
       "      <td>1.612852e+07</td>\n",
       "      <td>Female</td>\n",
       "      <td>Credit card (automatic)</td>\n",
       "      <td>Yes</td>\n",
       "      <td>No</td>\n",
       "      <td>DSL</td>\n",
       "      <td>...</td>\n",
       "      <td>Yes</td>\n",
       "      <td>Yes</td>\n",
       "      <td>Yes</td>\n",
       "      <td>Month-to-month</td>\n",
       "      <td>Yes</td>\n",
       "      <td>No</td>\n",
       "      <td>Yes</td>\n",
       "      <td>Yes</td>\n",
       "      <td>Yes</td>\n",
       "      <td>No</td>\n",
       "    </tr>\n",
       "    <tr>\n",
       "      <th>3</th>\n",
       "      <td>Harry Hammond</td>\n",
       "      <td>HarryHammond@akon.cloud</td>\n",
       "      <td>2344468307143</td>\n",
       "      <td>65166</td>\n",
       "      <td>7.527761e+08</td>\n",
       "      <td>Male</td>\n",
       "      <td>Credit card (automatic)</td>\n",
       "      <td>No</td>\n",
       "      <td>No</td>\n",
       "      <td>Fiber optic</td>\n",
       "      <td>...</td>\n",
       "      <td>No</td>\n",
       "      <td>Yes</td>\n",
       "      <td>No</td>\n",
       "      <td>Month-to-month</td>\n",
       "      <td>No</td>\n",
       "      <td>No</td>\n",
       "      <td>No</td>\n",
       "      <td>No</td>\n",
       "      <td>No</td>\n",
       "      <td>Yes</td>\n",
       "    </tr>\n",
       "    <tr>\n",
       "      <th>4</th>\n",
       "      <td>Boris Oatway</td>\n",
       "      <td>BorisOatway@akon.cloud</td>\n",
       "      <td>2342487538311</td>\n",
       "      <td>2119</td>\n",
       "      <td>7.667234e+08</td>\n",
       "      <td>Male</td>\n",
       "      <td>Bank transfer (automatic)</td>\n",
       "      <td>No</td>\n",
       "      <td>No</td>\n",
       "      <td>Fiber optic</td>\n",
       "      <td>...</td>\n",
       "      <td>No</td>\n",
       "      <td>No</td>\n",
       "      <td>No</td>\n",
       "      <td>Month-to-month</td>\n",
       "      <td>No</td>\n",
       "      <td>No</td>\n",
       "      <td>No</td>\n",
       "      <td>No</td>\n",
       "      <td>Yes</td>\n",
       "      <td>Yes</td>\n",
       "    </tr>\n",
       "  </tbody>\n",
       "</table>\n",
       "<p>5 rows × 21 columns</p>\n",
       "</div>"
      ],
      "text/plain": [
       "                 Name                 Email_Address   Phone_Number  \\\n",
       "0       Maxwell Mcgee       MaxwellMcgee@akon.cloud  2346236787784   \n",
       "1       Hannah Connor       HannahConnor@akon.cloud  2341587604506   \n",
       "2  Rosemary Alexander  RosemaryAlexander@akon.cloud  2345264828126   \n",
       "3       Harry Hammond       HarryHammond@akon.cloud  2344468307143   \n",
       "4        Boris Oatway        BorisOatway@akon.cloud  2342487538311   \n",
       "\n",
       "   MonthlyCharge  TotalCharges  Gender              PaymentMethod TechSupport  \\\n",
       "0          60564  6.564859e+08    Male  Bank transfer (automatic)         Yes   \n",
       "1          15683  9.137371e+08  Female    Credit card (automatic)         Yes   \n",
       "2          56857  1.612852e+07  Female    Credit card (automatic)         Yes   \n",
       "3          65166  7.527761e+08    Male    Credit card (automatic)          No   \n",
       "4           2119  7.667234e+08    Male  Bank transfer (automatic)          No   \n",
       "\n",
       "  Dependents InternetService  ... OnlineSecurity PaperlessBilling  \\\n",
       "0         No             DSL  ...            Yes              Yes   \n",
       "1        Yes             DSL  ...            Yes              Yes   \n",
       "2         No             DSL  ...            Yes              Yes   \n",
       "3         No     Fiber optic  ...             No              Yes   \n",
       "4         No     Fiber optic  ...             No               No   \n",
       "\n",
       "  StreamingMovies        Contract OnlineBackup PhoneService StreamingTV  \\\n",
       "0             Yes  Month-to-month          Yes          Yes         Yes   \n",
       "1             Yes  Month-to-month          Yes          Yes         Yes   \n",
       "2             Yes  Month-to-month          Yes           No         Yes   \n",
       "3              No  Month-to-month           No           No          No   \n",
       "4              No  Month-to-month           No           No          No   \n",
       "\n",
       "  DeviceProtection Partner Churn  \n",
       "0              Yes     Yes   Yes  \n",
       "1              Yes      No   Yes  \n",
       "2              Yes     Yes    No  \n",
       "3               No      No   Yes  \n",
       "4               No     Yes   Yes  \n",
       "\n",
       "[5 rows x 21 columns]"
      ]
     },
     "execution_count": 4,
     "metadata": {},
     "output_type": "execute_result"
    }
   ],
   "source": [
    "# Explore the data and identify missing values, duplicates, and inconsistent formatting.\n",
    "\n",
    "# View the first five rows of the dataset \n",
    "df.head()"
   ]
  },
  {
   "cell_type": "code",
   "execution_count": 5,
   "id": "a03f4439",
   "metadata": {},
   "outputs": [
    {
     "data": {
      "text/plain": [
       "(200000, 21)"
      ]
     },
     "execution_count": 5,
     "metadata": {},
     "output_type": "execute_result"
    }
   ],
   "source": [
    "# Check the shape of the dataset \n",
    "df.shape"
   ]
  },
  {
   "cell_type": "code",
   "execution_count": 6,
   "id": "22bae0c1",
   "metadata": {},
   "outputs": [
    {
     "data": {
      "text/plain": [
       "Index(['Name', 'Email_Address', 'Phone_Number', 'MonthlyCharge',\n",
       "       'TotalCharges', 'Gender', 'PaymentMethod', 'TechSupport', 'Dependents',\n",
       "       'InternetService', 'MultipleLines', 'OnlineSecurity',\n",
       "       'PaperlessBilling', 'StreamingMovies', 'Contract', 'OnlineBackup',\n",
       "       'PhoneService', 'StreamingTV', 'DeviceProtection', 'Partner', 'Churn'],\n",
       "      dtype='object')"
      ]
     },
     "execution_count": 6,
     "metadata": {},
     "output_type": "execute_result"
    }
   ],
   "source": [
    "df.columns\n",
    "#The three dots between \"InternetService\" and \"OnlineSecurity\" indicates that there is hidden columns \n",
    "#in between thus we will view all the columns."
   ]
  },
  {
   "cell_type": "code",
   "execution_count": 7,
   "id": "3fb3889a",
   "metadata": {},
   "outputs": [
    {
     "data": {
      "text/plain": [
       "Name                0\n",
       "Email_Address       0\n",
       "Phone_Number        0\n",
       "MonthlyCharge       0\n",
       "TotalCharges        0\n",
       "Gender              0\n",
       "PaymentMethod       0\n",
       "TechSupport         0\n",
       "Dependents          0\n",
       "InternetService     0\n",
       "MultipleLines       0\n",
       "OnlineSecurity      0\n",
       "PaperlessBilling    0\n",
       "StreamingMovies     0\n",
       "Contract            0\n",
       "OnlineBackup        0\n",
       "PhoneService        0\n",
       "StreamingTV         0\n",
       "DeviceProtection    0\n",
       "Partner             0\n",
       "Churn               0\n",
       "dtype: int64"
      ]
     },
     "execution_count": 7,
     "metadata": {},
     "output_type": "execute_result"
    }
   ],
   "source": [
    "# Check for missing values \n",
    "df.isnull().sum()"
   ]
  },
  {
   "cell_type": "code",
   "execution_count": 8,
   "id": "a01c5594",
   "metadata": {},
   "outputs": [
    {
     "data": {
      "text/plain": [
       "0"
      ]
     },
     "execution_count": 8,
     "metadata": {},
     "output_type": "execute_result"
    }
   ],
   "source": [
    "# Check for duplicates \n",
    "df.duplicated().sum()"
   ]
  },
  {
   "cell_type": "code",
   "execution_count": 9,
   "id": "29778394",
   "metadata": {},
   "outputs": [
    {
     "data": {
      "text/plain": [
       "Name                 object\n",
       "Email_Address        object\n",
       "Phone_Number          int64\n",
       "MonthlyCharge         int64\n",
       "TotalCharges        float64\n",
       "Gender               object\n",
       "PaymentMethod        object\n",
       "TechSupport          object\n",
       "Dependents           object\n",
       "InternetService      object\n",
       "MultipleLines        object\n",
       "OnlineSecurity       object\n",
       "PaperlessBilling     object\n",
       "StreamingMovies      object\n",
       "Contract             object\n",
       "OnlineBackup         object\n",
       "PhoneService         object\n",
       "StreamingTV          object\n",
       "DeviceProtection     object\n",
       "Partner              object\n",
       "Churn                object\n",
       "dtype: object"
      ]
     },
     "execution_count": 9,
     "metadata": {},
     "output_type": "execute_result"
    }
   ],
   "source": [
    "# Check the data types of the columns \n",
    "df.dtypes"
   ]
  },
  {
   "cell_type": "code",
   "execution_count": 10,
   "id": "22c87d52",
   "metadata": {},
   "outputs": [],
   "source": [
    "# Standardize formatting \n",
    "df['Gender'] = df['Gender'].replace(['Male','Female'],[0,1]) \n",
    "\n",
    "df['Partner'] = df['Partner'].replace(['Yes','No'],[1,0]) \n",
    "\n",
    "df['Dependents'] = df['Dependents'].replace(['Yes','No'],[1,0]) \n",
    "\n",
    "df['PhoneService'] = df['PhoneService'].replace(['Yes','No'],[1,0]) \n",
    "\n",
    "df['PaperlessBilling'] = df['PaperlessBilling'].replace(['Yes','No'],[1,0]) \n",
    "\n",
    "df['Churn'] = df['Churn'].replace(['Yes','No'],[1,0]) \n",
    "\n",
    "df['MultipleLines'] = df['MultipleLines'].replace(['Yes','No','No phone service'],[1,0,-1]) \n",
    "\n",
    "df['InternetService'] = df['InternetService'].replace(['DSL','Fiber optic','No'],[0,1,-1]) \n",
    "\n",
    "df['OnlineSecurity'] = df['OnlineSecurity'].replace(['Yes','No','No internet service'],[1,0,-1]) \n",
    "\n",
    "df['OnlineBackup'] = df['OnlineBackup'].replace(['Yes','No','No internet service'],[1,0,-1]) \n",
    "\n",
    "df['DeviceProtection'] = df['DeviceProtection'].replace(['Yes','No','No internet service'],[1,0,-1]) \n",
    "\n",
    "df['TechSupport'] = df['TechSupport'].replace(['Yes','No','No internet service'],[1,0,-1]) \n",
    "\n",
    "df['StreamingTV'] = df['StreamingTV'].replace(['Yes','No','No internet service'],[1,0,-1])\n",
    "\n",
    "df['StreamingMovies'] = df['StreamingMovies'].replace(['Yes','No','No internet service'],[1,0,-1]) \n",
    "\n",
    "df['Contract'] = df['Contract'].replace(['Month-to-month','One year','Two year'],[0,1,2]) \n",
    "\n",
    "df['PaymentMethod'] = df['PaymentMethod'].replace(['Electronic check','Bank transfer (automatic)','Credit card (automatic)'],[0,1,2])\n"
   ]
  },
  {
   "cell_type": "code",
   "execution_count": 11,
   "id": "4dec6570",
   "metadata": {},
   "outputs": [],
   "source": [
    "#Drop data that do not contribute: Name, Email_Address, and Phone_Number\n",
    "df.drop(['Name', 'Email_Address', 'Phone_Number'], axis=1, inplace=True)"
   ]
  },
  {
   "cell_type": "code",
   "execution_count": 12,
   "id": "5cb922b3",
   "metadata": {},
   "outputs": [
    {
     "data": {
      "text/html": [
       "<div>\n",
       "<style scoped>\n",
       "    .dataframe tbody tr th:only-of-type {\n",
       "        vertical-align: middle;\n",
       "    }\n",
       "\n",
       "    .dataframe tbody tr th {\n",
       "        vertical-align: top;\n",
       "    }\n",
       "\n",
       "    .dataframe thead th {\n",
       "        text-align: right;\n",
       "    }\n",
       "</style>\n",
       "<table border=\"1\" class=\"dataframe\">\n",
       "  <thead>\n",
       "    <tr style=\"text-align: right;\">\n",
       "      <th></th>\n",
       "      <th>MonthlyCharge</th>\n",
       "      <th>TotalCharges</th>\n",
       "      <th>Gender</th>\n",
       "      <th>PaymentMethod</th>\n",
       "      <th>TechSupport</th>\n",
       "      <th>Dependents</th>\n",
       "      <th>InternetService</th>\n",
       "      <th>MultipleLines</th>\n",
       "      <th>OnlineSecurity</th>\n",
       "      <th>PaperlessBilling</th>\n",
       "      <th>StreamingMovies</th>\n",
       "      <th>Contract</th>\n",
       "      <th>OnlineBackup</th>\n",
       "      <th>PhoneService</th>\n",
       "      <th>StreamingTV</th>\n",
       "      <th>DeviceProtection</th>\n",
       "      <th>Partner</th>\n",
       "      <th>Churn</th>\n",
       "    </tr>\n",
       "  </thead>\n",
       "  <tbody>\n",
       "    <tr>\n",
       "      <th>0</th>\n",
       "      <td>60564</td>\n",
       "      <td>6.564859e+08</td>\n",
       "      <td>0</td>\n",
       "      <td>1</td>\n",
       "      <td>1</td>\n",
       "      <td>0</td>\n",
       "      <td>0</td>\n",
       "      <td>1</td>\n",
       "      <td>1</td>\n",
       "      <td>1</td>\n",
       "      <td>1</td>\n",
       "      <td>0</td>\n",
       "      <td>1</td>\n",
       "      <td>1</td>\n",
       "      <td>1</td>\n",
       "      <td>1</td>\n",
       "      <td>1</td>\n",
       "      <td>1</td>\n",
       "    </tr>\n",
       "    <tr>\n",
       "      <th>1</th>\n",
       "      <td>15683</td>\n",
       "      <td>9.137371e+08</td>\n",
       "      <td>1</td>\n",
       "      <td>2</td>\n",
       "      <td>1</td>\n",
       "      <td>1</td>\n",
       "      <td>0</td>\n",
       "      <td>1</td>\n",
       "      <td>1</td>\n",
       "      <td>1</td>\n",
       "      <td>1</td>\n",
       "      <td>0</td>\n",
       "      <td>1</td>\n",
       "      <td>1</td>\n",
       "      <td>1</td>\n",
       "      <td>1</td>\n",
       "      <td>0</td>\n",
       "      <td>1</td>\n",
       "    </tr>\n",
       "    <tr>\n",
       "      <th>2</th>\n",
       "      <td>56857</td>\n",
       "      <td>1.612852e+07</td>\n",
       "      <td>1</td>\n",
       "      <td>2</td>\n",
       "      <td>1</td>\n",
       "      <td>0</td>\n",
       "      <td>0</td>\n",
       "      <td>1</td>\n",
       "      <td>1</td>\n",
       "      <td>1</td>\n",
       "      <td>1</td>\n",
       "      <td>0</td>\n",
       "      <td>1</td>\n",
       "      <td>0</td>\n",
       "      <td>1</td>\n",
       "      <td>1</td>\n",
       "      <td>1</td>\n",
       "      <td>0</td>\n",
       "    </tr>\n",
       "    <tr>\n",
       "      <th>3</th>\n",
       "      <td>65166</td>\n",
       "      <td>7.527761e+08</td>\n",
       "      <td>0</td>\n",
       "      <td>2</td>\n",
       "      <td>0</td>\n",
       "      <td>0</td>\n",
       "      <td>1</td>\n",
       "      <td>0</td>\n",
       "      <td>0</td>\n",
       "      <td>1</td>\n",
       "      <td>0</td>\n",
       "      <td>0</td>\n",
       "      <td>0</td>\n",
       "      <td>0</td>\n",
       "      <td>0</td>\n",
       "      <td>0</td>\n",
       "      <td>0</td>\n",
       "      <td>1</td>\n",
       "    </tr>\n",
       "    <tr>\n",
       "      <th>4</th>\n",
       "      <td>2119</td>\n",
       "      <td>7.667234e+08</td>\n",
       "      <td>0</td>\n",
       "      <td>1</td>\n",
       "      <td>0</td>\n",
       "      <td>0</td>\n",
       "      <td>1</td>\n",
       "      <td>0</td>\n",
       "      <td>0</td>\n",
       "      <td>0</td>\n",
       "      <td>0</td>\n",
       "      <td>0</td>\n",
       "      <td>0</td>\n",
       "      <td>0</td>\n",
       "      <td>0</td>\n",
       "      <td>0</td>\n",
       "      <td>1</td>\n",
       "      <td>1</td>\n",
       "    </tr>\n",
       "  </tbody>\n",
       "</table>\n",
       "</div>"
      ],
      "text/plain": [
       "   MonthlyCharge  TotalCharges  Gender  PaymentMethod  TechSupport  \\\n",
       "0          60564  6.564859e+08       0              1            1   \n",
       "1          15683  9.137371e+08       1              2            1   \n",
       "2          56857  1.612852e+07       1              2            1   \n",
       "3          65166  7.527761e+08       0              2            0   \n",
       "4           2119  7.667234e+08       0              1            0   \n",
       "\n",
       "   Dependents  InternetService  MultipleLines  OnlineSecurity  \\\n",
       "0           0                0              1               1   \n",
       "1           1                0              1               1   \n",
       "2           0                0              1               1   \n",
       "3           0                1              0               0   \n",
       "4           0                1              0               0   \n",
       "\n",
       "   PaperlessBilling  StreamingMovies  Contract  OnlineBackup  PhoneService  \\\n",
       "0                 1                1         0             1             1   \n",
       "1                 1                1         0             1             1   \n",
       "2                 1                1         0             1             0   \n",
       "3                 1                0         0             0             0   \n",
       "4                 0                0         0             0             0   \n",
       "\n",
       "   StreamingTV  DeviceProtection  Partner  Churn  \n",
       "0            1                 1        1      1  \n",
       "1            1                 1        0      1  \n",
       "2            1                 1        1      0  \n",
       "3            0                 0        0      1  \n",
       "4            0                 0        1      1  "
      ]
     },
     "execution_count": 12,
     "metadata": {},
     "output_type": "execute_result"
    }
   ],
   "source": [
    "#Check the cleaned data\n",
    "df.head()"
   ]
  },
  {
   "cell_type": "code",
   "execution_count": 13,
   "id": "f768e11a",
   "metadata": {},
   "outputs": [
    {
     "data": {
      "text/plain": [
       "<AxesSubplot:xlabel='Churn', ylabel='count'>"
      ]
     },
     "execution_count": 13,
     "metadata": {},
     "output_type": "execute_result"
    },
    {
     "data": {
      "image/png": "[encoded data removed]",
      "text/plain": [
       "<Figure size 432x288 with 1 Axes>"
      ]
     },
     "metadata": {
      "needs_background": "light"
     },
     "output_type": "display_data"
    }
   ],
   "source": [
    "### 4. Visualize the data to identify patterns and factors that contribute to customer churn.\n",
    "# Visualize churn rate\n",
    "sns.countplot(x='Churn', data=df)"
   ]
  },
  {
   "cell_type": "code",
   "execution_count": 14,
   "id": "722683e1",
   "metadata": {},
   "outputs": [
    {
     "data": {
      "text/plain": [
       "<AxesSubplot:xlabel='Churn', ylabel='count'>"
      ]
     },
     "execution_count": 14,
     "metadata": {},
     "output_type": "execute_result"
    },
    {
     "data": {
      "image/png": "[encoded data removed]",
      "text/plain": [
       "<Figure size 432x288 with 1 Axes>"
      ]
     },
     "metadata": {
      "needs_background": "light"
     },
     "output_type": "display_data"
    }
   ],
   "source": [
    "# Visualize churn rate by gender\n",
    "sns.countplot(x='Churn', hue='Gender', data=df)"
   ]
  },
  {
   "cell_type": "code",
   "execution_count": 15,
   "id": "17bb4f6a",
   "metadata": {},
   "outputs": [
    {
     "data": {
      "text/plain": [
       "<AxesSubplot:xlabel='Churn', ylabel='count'>"
      ]
     },
     "execution_count": 15,
     "metadata": {},
     "output_type": "execute_result"
    },
    {
     "data": {
      "image/png": "[encoded data removed]",
      "text/plain": [
       "<Figure size 432x288 with 1 Axes>"
      ]
     },
     "metadata": {
      "needs_background": "light"
     },
     "output_type": "display_data"
    }
   ],
   "source": [
    "# Visualize churn rate by contract type\n",
    "sns.countplot(x='Churn', hue='Contract', data=df)"
   ]
  },
  {
   "cell_type": "code",
   "execution_count": 16,
   "id": "7854fb1b",
   "metadata": {},
   "outputs": [
    {
     "data": {
      "text/plain": [
       "<AxesSubplot:xlabel='Churn', ylabel='count'>"
      ]
     },
     "execution_count": 16,
     "metadata": {},
     "output_type": "execute_result"
    },
    {
     "data": {
      "image/png": "[encoded data removed]",
      "text/plain": [
       "<Figure size 432x288 with 1 Axes>"
      ]
     },
     "metadata": {
      "needs_background": "light"
     },
     "output_type": "display_data"
    }
   ],
   "source": [
    "# Visualize churn rate by payment method\n",
    "sns.countplot(x='Churn', hue='PaymentMethod', data=df)"
   ]
  },
  {
   "cell_type": "code",
   "execution_count": 17,
   "id": "9dc5f050",
   "metadata": {},
   "outputs": [
    {
     "data": {
      "text/plain": [
       "<AxesSubplot:xlabel='Churn', ylabel='MonthlyCharge'>"
      ]
     },
     "execution_count": 17,
     "metadata": {},
     "output_type": "execute_result"
    },
    {
     "data": {
      "image/png": "[encoded data removed]",
      "text/plain": [
       "<Figure size 432x288 with 1 Axes>"
      ]
     },
     "metadata": {
      "needs_background": "light"
     },
     "output_type": "display_data"
    }
   ],
   "source": [
    "# Visualize churn rate by monthly charges\n",
    "sns.boxplot(x='Churn', y='MonthlyCharge', data=df)"
   ]
  },
  {
   "cell_type": "code",
   "execution_count": 18,
   "id": "6b7ba6cb",
   "metadata": {},
   "outputs": [
    {
     "data": {
      "text/plain": [
       "<AxesSubplot:xlabel='Churn', ylabel='TotalCharges'>"
      ]
     },
     "execution_count": 18,
     "metadata": {},
     "output_type": "execute_result"
    },
    {
     "data": {
      "image/png": "[encoded data removed]",
      "text/plain": [
       "<Figure size 432x288 with 1 Axes>"
      ]
     },
     "metadata": {
      "needs_background": "light"
     },
     "output_type": "display_data"
    }
   ],
   "source": [
    "# Visualize churn rate by total charges\n",
    "sns.boxplot(x='Churn', y='TotalCharges', data=df)"
   ]
  },
  {
   "cell_type": "code",
   "execution_count": 19,
   "id": "c3615a8b",
   "metadata": {},
   "outputs": [
    {
     "data": {
      "image/png": "[encoded data removed]",
      "text/plain": [
       "<Figure size 432x288 with 1 Axes>"
      ]
     },
     "metadata": {
      "needs_background": "light"
     },
     "output_type": "display_data"
    }
   ],
   "source": [
    "# Build a predictive model to identify customers at risk of churning.\n",
    "\n",
    "#Based on our data exploration and visualization, we'll build a predictive model to identify customers at risk of churning. \n",
    "\n",
    "# View the distribution of our target variable\n",
    "sns.countplot(x='Churn', data=df)\n",
    "plt.show()"
   ]
  },
  {
   "cell_type": "code",
   "execution_count": 20,
   "id": "8cc75188",
   "metadata": {},
   "outputs": [
    {
     "data": {
      "image/png": "[encoded data removed]",
      "text/plain": [
       "<Figure size 432x288 with 2 Axes>"
      ]
     },
     "metadata": {
      "needs_background": "light"
     },
     "output_type": "display_data"
    }
   ],
   "source": [
    "# View the correlation between features and our target variable\n",
    "corr = df.corr()\n",
    "sns.heatmap(corr, cmap='coolwarm', annot=True)\n",
    "plt.show()"
   ]
  },
  {
   "cell_type": "code",
   "execution_count": 21,
   "id": "850583cc",
   "metadata": {},
   "outputs": [
    {
     "data": {
      "image/png": "[encoded data removed]",
      "text/plain": [
       "<Figure size 432x288 with 1 Axes>"
      ]
     },
     "metadata": {
      "needs_background": "light"
     },
     "output_type": "display_data"
    },
    {
     "data": {
      "image/png": "[encoded data removed]",
      "text/plain": [
       "<Figure size 432x288 with 1 Axes>"
      ]
     },
     "metadata": {
      "needs_background": "light"
     },
     "output_type": "display_data"
    }
   ],
   "source": [
    "# View the distribution of monthly charges and total charges\n",
    "sns.histplot(x='MonthlyCharge', data=df, hue='Churn', kde=True)\n",
    "plt.show()\n",
    "sns.histplot(x='TotalCharges', data=df, hue='Churn', kde=True)\n",
    "plt.show()"
   ]
  },
  {
   "cell_type": "code",
   "execution_count": 23,
   "id": "9329ab74",
   "metadata": {},
   "outputs": [],
   "source": [
    "from sklearn.model_selection import train_test_split\n",
    "from sklearn.metrics import accuracy_score, precision_score, recall_score, f1_score, confusion_matrix\n",
    "\n",
    "# Split the data into training and testing sets\n",
    "X = df.drop('Churn', axis=1)\n",
    "y = df['Churn']\n",
    "X_train, X_test, y_train, y_test = train_test_split(X, y, test_size=0.2, random_state=42)"
   ]
  },
  {
   "cell_type": "code",
   "execution_count": 24,
   "id": "c1982b10",
   "metadata": {},
   "outputs": [],
   "source": [
    "from sklearn.ensemble import RandomForestClassifier\n",
    "# train a random forest classifier\n",
    "rfc = RandomForestClassifier(n_estimators=100, random_state=42)\n",
    "rfc.fit(X_train, y_train)\n",
    "\n",
    "# make predictions on the testing set\n",
    "y_pred = rfc.predict(X_test)"
   ]
  },
  {
   "cell_type": "code",
   "execution_count": 25,
   "id": "ddc126cc",
   "metadata": {},
   "outputs": [
    {
     "name": "stdout",
     "output_type": "stream",
     "text": [
      "Accuracy: 0.499925\n",
      "Confusion matrix: [[10105  9817]\n",
      " [10186  9892]]\n"
     ]
    }
   ],
   "source": [
    "# Evaluate the model's performance by calculating the accuracy and confusion matrix.\n",
    "accuracy = accuracy_score(y_test, y_pred)\n",
    "confusion = confusion_matrix(y_test, y_pred)\n",
    "print('Accuracy:', accuracy)\n",
    "print('Confusion matrix:', confusion)"
   ]
  },
  {
   "cell_type": "code",
   "execution_count": 26,
   "id": "157e76bc",
   "metadata": {},
   "outputs": [
    {
     "data": {
      "image/png": "[encoded data removed]",
      "text/plain": [
       "<Figure size 576x432 with 1 Axes>"
      ]
     },
     "metadata": {
      "needs_background": "light"
     },
     "output_type": "display_data"
    }
   ],
   "source": [
    "# generate a confusion matrix\n",
    "conf_mat = confusion_matrix(y_test, y_pred)\n",
    "\n",
    "# plot the confusion matrix\n",
    "fig, ax = plt.subplots(figsize=(8, 6))\n",
    "sns.heatmap(conf_mat, annot=True, fmt='d', cmap='Blues', cbar=False, ax=ax)\n",
    "plt.xlabel('Predicted label')\n",
    "plt.ylabel('True label')\n",
    "plt.title('Confusion Matrix')\n",
    "plt.show()"
   ]
  },
  {
   "cell_type": "markdown",
   "id": "30818cb9",
   "metadata": {},
   "source": [
    "The output reflects an accuracy score of approximately 0.5 (or 50%) and a confusion matrix with two rows and two columns. \n",
    "\n",
    "The confusion matrix represents the true and predicted classes of a binary classification problem. The first row and first column correspond to the true negatives (TN), which are the number of negative samples that were correctly predicted as negative by the model. The second row and first column correspond to the false negatives (FN), which are the number of negative samples that were incorrectly predicted as positive by the model. \n",
    "\n",
    "The first row and second column correspond to the false positives (FP), which are the number of positive samples that were incorrectly predicted as negative by the model. \n",
    "\n",
    "The second row and second column correspond to the true positives (TP), which are the number of positive samples that were correctly predicted as positive by the model.\n",
    "\n",
    "Based on the confusion matrix, the model correctly predicted 10105 true negatives and 9892 true positives, but misclassified 10186 false negatives and 9817 false positives. \n",
    "\n",
    "This means that the model is not performing well and is almost like guessing at random.\n",
    "\n",
    "A better method would be to try and improve the performance of the model by optimizing the hyperparameters of the algorithm, using feature selection techniques to remove irrelevant or redundant features, or trying different machine learning algorithms altogether. It may also be helpful to gather more data or to balance the classes if there is a class imbalance. \n",
    "\n",
    "Additionally, it is important to choose appropriate evaluation metrics for the problem at hand, such as precision, recall, or F1-score, instead of solely relying on accuracy and this will be done in the next."
   ]
  },
  {
   "cell_type": "code",
   "execution_count": 27,
   "id": "43438dd3",
   "metadata": {},
   "outputs": [
    {
     "name": "stdout",
     "output_type": "stream",
     "text": [
      "              precision    recall  f1-score   support\n",
      "\n",
      "           0       0.50      0.51      0.50     19922\n",
      "           1       0.50      0.49      0.50     20078\n",
      "\n",
      "    accuracy                           0.50     40000\n",
      "   macro avg       0.50      0.50      0.50     40000\n",
      "weighted avg       0.50      0.50      0.50     40000\n",
      "\n"
     ]
    }
   ],
   "source": [
    "# Import libraries \n",
    "from sklearn.metrics import classification_report \n",
    "\n",
    "# print the classification report\n",
    "print(classification_report(y_test, y_pred))"
   ]
  },
  {
   "cell_type": "markdown",
   "id": "ac9fc17f",
   "metadata": {},
   "source": [
    "The output retrieved is the classification report of a binary classification problem. It consists of evaluation metrics such as precision, recall, F1-score, and support for each class (0 and 1), as well as the macro and weighted average scores across both classes.\n",
    "\n",
    "Precision measures the fraction of true positive predictions among all positive predictions made by the model, while recall measures the fraction of true positive predictions among all actual positive samples in the dataset. \n",
    "\n",
    "F1-score is the harmonic mean of precision and recall, and it is a metric that balances the importance of precision and recall for a given problem. The support column indicates the number of samples in each class.\n",
    "\n",
    "In the classification report, the precision and recall for both classes are approximately 0.5, indicating that the model is making predictions at random. The F1-score is also 0.5, which is the harmonic mean of precision and recall, and the accuracy is 0.5, which means that the model is not performing well in distinguishing between the two classes.\n",
    "\n",
    "The macro average score takes the unweighted mean of the precision, recall, and F1-score across both classes, while the weighted average score takes the weighted mean of the same metrics, weighted by the number of samples in each class. \n",
    "\n",
    "In this case, the macro and weighted average scores are the same since the dataset is balanced. The average scores of 0.5 for precision, recall, and F1-score indicate that the model is performing poorly for both classes.\n",
    "\n",
    "In summary, the classification report shows that the model is not performing well in predicting the target variable, and it is likely that more work is needed to improve the model's performance.\n",
    "\n",
    "To further improve the model, we will refer back to our feature engineering.\n",
    "This is one of the reasons to make a copy of the data, rather than import the data afresh, we simply extract from the copy above."
   ]
  },
  {
   "cell_type": "code",
   "execution_count": 28,
   "id": "a7ef792d",
   "metadata": {},
   "outputs": [],
   "source": [
    "df= df1.copy()"
   ]
  },
  {
   "cell_type": "code",
   "execution_count": 29,
   "id": "5b64c4bb",
   "metadata": {},
   "outputs": [
    {
     "data": {
      "text/html": [
       "<div>\n",
       "<style scoped>\n",
       "    .dataframe tbody tr th:only-of-type {\n",
       "        vertical-align: middle;\n",
       "    }\n",
       "\n",
       "    .dataframe tbody tr th {\n",
       "        vertical-align: top;\n",
       "    }\n",
       "\n",
       "    .dataframe thead th {\n",
       "        text-align: right;\n",
       "    }\n",
       "</style>\n",
       "<table border=\"1\" class=\"dataframe\">\n",
       "  <thead>\n",
       "    <tr style=\"text-align: right;\">\n",
       "      <th></th>\n",
       "      <th>Name</th>\n",
       "      <th>Email_Address</th>\n",
       "      <th>Phone_Number</th>\n",
       "      <th>MonthlyCharge</th>\n",
       "      <th>TotalCharges</th>\n",
       "      <th>Gender</th>\n",
       "      <th>PaymentMethod</th>\n",
       "      <th>TechSupport</th>\n",
       "      <th>Dependents</th>\n",
       "      <th>InternetService</th>\n",
       "      <th>...</th>\n",
       "      <th>OnlineSecurity</th>\n",
       "      <th>PaperlessBilling</th>\n",
       "      <th>StreamingMovies</th>\n",
       "      <th>Contract</th>\n",
       "      <th>OnlineBackup</th>\n",
       "      <th>PhoneService</th>\n",
       "      <th>StreamingTV</th>\n",
       "      <th>DeviceProtection</th>\n",
       "      <th>Partner</th>\n",
       "      <th>Churn</th>\n",
       "    </tr>\n",
       "  </thead>\n",
       "  <tbody>\n",
       "    <tr>\n",
       "      <th>0</th>\n",
       "      <td>Maxwell Mcgee</td>\n",
       "      <td>MaxwellMcgee@akon.cloud</td>\n",
       "      <td>2346236787784</td>\n",
       "      <td>60564</td>\n",
       "      <td>6.564859e+08</td>\n",
       "      <td>Male</td>\n",
       "      <td>Bank transfer (automatic)</td>\n",
       "      <td>Yes</td>\n",
       "      <td>No</td>\n",
       "      <td>DSL</td>\n",
       "      <td>...</td>\n",
       "      <td>Yes</td>\n",
       "      <td>Yes</td>\n",
       "      <td>Yes</td>\n",
       "      <td>Month-to-month</td>\n",
       "      <td>Yes</td>\n",
       "      <td>Yes</td>\n",
       "      <td>Yes</td>\n",
       "      <td>Yes</td>\n",
       "      <td>Yes</td>\n",
       "      <td>Yes</td>\n",
       "    </tr>\n",
       "    <tr>\n",
       "      <th>1</th>\n",
       "      <td>Hannah Connor</td>\n",
       "      <td>HannahConnor@akon.cloud</td>\n",
       "      <td>2341587604506</td>\n",
       "      <td>15683</td>\n",
       "      <td>9.137371e+08</td>\n",
       "      <td>Female</td>\n",
       "      <td>Credit card (automatic)</td>\n",
       "      <td>Yes</td>\n",
       "      <td>Yes</td>\n",
       "      <td>DSL</td>\n",
       "      <td>...</td>\n",
       "      <td>Yes</td>\n",
       "      <td>Yes</td>\n",
       "      <td>Yes</td>\n",
       "      <td>Month-to-month</td>\n",
       "      <td>Yes</td>\n",
       "      <td>Yes</td>\n",
       "      <td>Yes</td>\n",
       "      <td>Yes</td>\n",
       "      <td>No</td>\n",
       "      <td>Yes</td>\n",
       "    </tr>\n",
       "    <tr>\n",
       "      <th>2</th>\n",
       "      <td>Rosemary Alexander</td>\n",
       "      <td>RosemaryAlexander@akon.cloud</td>\n",
       "      <td>2345264828126</td>\n",
       "      <td>56857</td>\n",
       "      <td>1.612852e+07</td>\n",
       "      <td>Female</td>\n",
       "      <td>Credit card (automatic)</td>\n",
       "      <td>Yes</td>\n",
       "      <td>No</td>\n",
       "      <td>DSL</td>\n",
       "      <td>...</td>\n",
       "      <td>Yes</td>\n",
       "      <td>Yes</td>\n",
       "      <td>Yes</td>\n",
       "      <td>Month-to-month</td>\n",
       "      <td>Yes</td>\n",
       "      <td>No</td>\n",
       "      <td>Yes</td>\n",
       "      <td>Yes</td>\n",
       "      <td>Yes</td>\n",
       "      <td>No</td>\n",
       "    </tr>\n",
       "    <tr>\n",
       "      <th>3</th>\n",
       "      <td>Harry Hammond</td>\n",
       "      <td>HarryHammond@akon.cloud</td>\n",
       "      <td>2344468307143</td>\n",
       "      <td>65166</td>\n",
       "      <td>7.527761e+08</td>\n",
       "      <td>Male</td>\n",
       "      <td>Credit card (automatic)</td>\n",
       "      <td>No</td>\n",
       "      <td>No</td>\n",
       "      <td>Fiber optic</td>\n",
       "      <td>...</td>\n",
       "      <td>No</td>\n",
       "      <td>Yes</td>\n",
       "      <td>No</td>\n",
       "      <td>Month-to-month</td>\n",
       "      <td>No</td>\n",
       "      <td>No</td>\n",
       "      <td>No</td>\n",
       "      <td>No</td>\n",
       "      <td>No</td>\n",
       "      <td>Yes</td>\n",
       "    </tr>\n",
       "    <tr>\n",
       "      <th>4</th>\n",
       "      <td>Boris Oatway</td>\n",
       "      <td>BorisOatway@akon.cloud</td>\n",
       "      <td>2342487538311</td>\n",
       "      <td>2119</td>\n",
       "      <td>7.667234e+08</td>\n",
       "      <td>Male</td>\n",
       "      <td>Bank transfer (automatic)</td>\n",
       "      <td>No</td>\n",
       "      <td>No</td>\n",
       "      <td>Fiber optic</td>\n",
       "      <td>...</td>\n",
       "      <td>No</td>\n",
       "      <td>No</td>\n",
       "      <td>No</td>\n",
       "      <td>Month-to-month</td>\n",
       "      <td>No</td>\n",
       "      <td>No</td>\n",
       "      <td>No</td>\n",
       "      <td>No</td>\n",
       "      <td>Yes</td>\n",
       "      <td>Yes</td>\n",
       "    </tr>\n",
       "  </tbody>\n",
       "</table>\n",
       "<p>5 rows × 21 columns</p>\n",
       "</div>"
      ],
      "text/plain": [
       "                 Name                 Email_Address   Phone_Number  \\\n",
       "0       Maxwell Mcgee       MaxwellMcgee@akon.cloud  2346236787784   \n",
       "1       Hannah Connor       HannahConnor@akon.cloud  2341587604506   \n",
       "2  Rosemary Alexander  RosemaryAlexander@akon.cloud  2345264828126   \n",
       "3       Harry Hammond       HarryHammond@akon.cloud  2344468307143   \n",
       "4        Boris Oatway        BorisOatway@akon.cloud  2342487538311   \n",
       "\n",
       "   MonthlyCharge  TotalCharges  Gender              PaymentMethod TechSupport  \\\n",
       "0          60564  6.564859e+08    Male  Bank transfer (automatic)         Yes   \n",
       "1          15683  9.137371e+08  Female    Credit card (automatic)         Yes   \n",
       "2          56857  1.612852e+07  Female    Credit card (automatic)         Yes   \n",
       "3          65166  7.527761e+08    Male    Credit card (automatic)          No   \n",
       "4           2119  7.667234e+08    Male  Bank transfer (automatic)          No   \n",
       "\n",
       "  Dependents InternetService  ... OnlineSecurity PaperlessBilling  \\\n",
       "0         No             DSL  ...            Yes              Yes   \n",
       "1        Yes             DSL  ...            Yes              Yes   \n",
       "2         No             DSL  ...            Yes              Yes   \n",
       "3         No     Fiber optic  ...             No              Yes   \n",
       "4         No     Fiber optic  ...             No               No   \n",
       "\n",
       "  StreamingMovies        Contract OnlineBackup PhoneService StreamingTV  \\\n",
       "0             Yes  Month-to-month          Yes          Yes         Yes   \n",
       "1             Yes  Month-to-month          Yes          Yes         Yes   \n",
       "2             Yes  Month-to-month          Yes           No         Yes   \n",
       "3              No  Month-to-month           No           No          No   \n",
       "4              No  Month-to-month           No           No          No   \n",
       "\n",
       "  DeviceProtection Partner Churn  \n",
       "0              Yes     Yes   Yes  \n",
       "1              Yes      No   Yes  \n",
       "2              Yes     Yes    No  \n",
       "3               No      No   Yes  \n",
       "4               No     Yes   Yes  \n",
       "\n",
       "[5 rows x 21 columns]"
      ]
     },
     "execution_count": 29,
     "metadata": {},
     "output_type": "execute_result"
    }
   ],
   "source": [
    "df.head()"
   ]
  },
  {
   "cell_type": "code",
   "execution_count": 30,
   "id": "47f89a7c",
   "metadata": {},
   "outputs": [],
   "source": [
    "# Separate the features and target variable\n",
    "X = df.drop('Churn', axis=1)\n",
    "y = df['Churn']"
   ]
  },
  {
   "cell_type": "code",
   "execution_count": 31,
   "id": "b1f6aaea",
   "metadata": {},
   "outputs": [],
   "source": [
    "# Define the categorical and numerical columns\n",
    "categorical_cols = ['Gender', 'PaymentMethod', 'TechSupport', 'Dependents', 'InternetService', 'OnlineSecurity', 'PaperlessBilling', 'StreamingMovies', 'Contract', 'OnlineBackup', 'PhoneService', 'StreamingTV', 'DeviceProtection', 'Partner']\n",
    "numeric_cols = ['MonthlyCharge', 'TotalCharges']"
   ]
  },
  {
   "cell_type": "code",
   "execution_count": 32,
   "id": "7c19ff18",
   "metadata": {},
   "outputs": [],
   "source": [
    "from sklearn.compose import ColumnTransformer\n",
    "from sklearn.preprocessing import OneHotEncoder, StandardScaler\n",
    "\n",
    "# Define the column transformer to apply one-hot encoding and standard scaling\n",
    "preprocessor = ColumnTransformer(\n",
    "    transformers=[\n",
    "        ('cat', OneHotEncoder(), categorical_cols),\n",
    "        ('num', StandardScaler(), numeric_cols)])"
   ]
  },
  {
   "cell_type": "code",
   "execution_count": 33,
   "id": "19c2786d",
   "metadata": {},
   "outputs": [],
   "source": [
    "# Split the dataset into training and test sets\n",
    "X_train, X_test, y_train, y_test = train_test_split(X, y, test_size=0.2, random_state=42)"
   ]
  },
  {
   "cell_type": "code",
   "execution_count": 34,
   "id": "67eda012",
   "metadata": {},
   "outputs": [
    {
     "data": {
      "text/plain": [
       "ColumnTransformer(transformers=[('cat', OneHotEncoder(),\n",
       "                                 ['Gender', 'PaymentMethod', 'TechSupport',\n",
       "                                  'Dependents', 'InternetService',\n",
       "                                  'OnlineSecurity', 'PaperlessBilling',\n",
       "                                  'StreamingMovies', 'Contract', 'OnlineBackup',\n",
       "                                  'PhoneService', 'StreamingTV',\n",
       "                                  'DeviceProtection', 'Partner']),\n",
       "                                ('num', StandardScaler(),\n",
       "                                 ['MonthlyCharge', 'TotalCharges'])])"
      ]
     },
     "execution_count": 34,
     "metadata": {},
     "output_type": "execute_result"
    }
   ],
   "source": [
    "# Fit the preprocessor on the training set\n",
    "preprocessor.fit(X_train)"
   ]
  },
  {
   "cell_type": "code",
   "execution_count": 35,
   "id": "a8c644d0",
   "metadata": {},
   "outputs": [],
   "source": [
    "# Transform the training and test sets\n",
    "X_train_transformed = preprocessor.transform(X_train)\n",
    "X_test_transformed = preprocessor.transform(X_test)"
   ]
  },
  {
   "cell_type": "code",
   "execution_count": 36,
   "id": "a9d1c3fb",
   "metadata": {},
   "outputs": [
    {
     "data": {
      "text/plain": [
       "RandomForestClassifier(random_state=42)"
      ]
     },
     "execution_count": 36,
     "metadata": {},
     "output_type": "execute_result"
    }
   ],
   "source": [
    "from sklearn.ensemble import RandomForestClassifier\n",
    "# Train a random forest classifier on the transformed training set\n",
    "rf = RandomForestClassifier(n_estimators=100, random_state=42)\n",
    "rf.fit(X_train_transformed, y_train)"
   ]
  },
  {
   "cell_type": "code",
   "execution_count": 37,
   "id": "ef8d3138",
   "metadata": {},
   "outputs": [],
   "source": [
    "# Predict the churn labels for the whole dataset\n",
    "X_transformed = preprocessor.transform(X)\n",
    "y_pred = rf.predict(X_transformed)"
   ]
  },
  {
   "cell_type": "code",
   "execution_count": 38,
   "id": "21b171ba",
   "metadata": {},
   "outputs": [],
   "source": [
    "# Add the predicted labels to the original dataset\n",
    "df['Churn_Prediction'] = y_pred"
   ]
  },
  {
   "cell_type": "code",
   "execution_count": 39,
   "id": "4030cbb7",
   "metadata": {},
   "outputs": [
    {
     "data": {
      "text/html": [
       "<div>\n",
       "<style scoped>\n",
       "    .dataframe tbody tr th:only-of-type {\n",
       "        vertical-align: middle;\n",
       "    }\n",
       "\n",
       "    .dataframe tbody tr th {\n",
       "        vertical-align: top;\n",
       "    }\n",
       "\n",
       "    .dataframe thead th {\n",
       "        text-align: right;\n",
       "    }\n",
       "</style>\n",
       "<table border=\"1\" class=\"dataframe\">\n",
       "  <thead>\n",
       "    <tr style=\"text-align: right;\">\n",
       "      <th></th>\n",
       "      <th>Name</th>\n",
       "      <th>Email_Address</th>\n",
       "      <th>Phone_Number</th>\n",
       "      <th>MonthlyCharge</th>\n",
       "      <th>TotalCharges</th>\n",
       "      <th>Gender</th>\n",
       "      <th>PaymentMethod</th>\n",
       "      <th>TechSupport</th>\n",
       "      <th>Dependents</th>\n",
       "      <th>InternetService</th>\n",
       "      <th>...</th>\n",
       "      <th>PaperlessBilling</th>\n",
       "      <th>StreamingMovies</th>\n",
       "      <th>Contract</th>\n",
       "      <th>OnlineBackup</th>\n",
       "      <th>PhoneService</th>\n",
       "      <th>StreamingTV</th>\n",
       "      <th>DeviceProtection</th>\n",
       "      <th>Partner</th>\n",
       "      <th>Churn</th>\n",
       "      <th>Churn_Prediction</th>\n",
       "    </tr>\n",
       "  </thead>\n",
       "  <tbody>\n",
       "    <tr>\n",
       "      <th>0</th>\n",
       "      <td>Maxwell Mcgee</td>\n",
       "      <td>MaxwellMcgee@akon.cloud</td>\n",
       "      <td>2346236787784</td>\n",
       "      <td>60564</td>\n",
       "      <td>6.564859e+08</td>\n",
       "      <td>Male</td>\n",
       "      <td>Bank transfer (automatic)</td>\n",
       "      <td>Yes</td>\n",
       "      <td>No</td>\n",
       "      <td>DSL</td>\n",
       "      <td>...</td>\n",
       "      <td>Yes</td>\n",
       "      <td>Yes</td>\n",
       "      <td>Month-to-month</td>\n",
       "      <td>Yes</td>\n",
       "      <td>Yes</td>\n",
       "      <td>Yes</td>\n",
       "      <td>Yes</td>\n",
       "      <td>Yes</td>\n",
       "      <td>Yes</td>\n",
       "      <td>Yes</td>\n",
       "    </tr>\n",
       "    <tr>\n",
       "      <th>1</th>\n",
       "      <td>Hannah Connor</td>\n",
       "      <td>HannahConnor@akon.cloud</td>\n",
       "      <td>2341587604506</td>\n",
       "      <td>15683</td>\n",
       "      <td>9.137371e+08</td>\n",
       "      <td>Female</td>\n",
       "      <td>Credit card (automatic)</td>\n",
       "      <td>Yes</td>\n",
       "      <td>Yes</td>\n",
       "      <td>DSL</td>\n",
       "      <td>...</td>\n",
       "      <td>Yes</td>\n",
       "      <td>Yes</td>\n",
       "      <td>Month-to-month</td>\n",
       "      <td>Yes</td>\n",
       "      <td>Yes</td>\n",
       "      <td>Yes</td>\n",
       "      <td>Yes</td>\n",
       "      <td>No</td>\n",
       "      <td>Yes</td>\n",
       "      <td>Yes</td>\n",
       "    </tr>\n",
       "    <tr>\n",
       "      <th>2</th>\n",
       "      <td>Rosemary Alexander</td>\n",
       "      <td>RosemaryAlexander@akon.cloud</td>\n",
       "      <td>2345264828126</td>\n",
       "      <td>56857</td>\n",
       "      <td>1.612852e+07</td>\n",
       "      <td>Female</td>\n",
       "      <td>Credit card (automatic)</td>\n",
       "      <td>Yes</td>\n",
       "      <td>No</td>\n",
       "      <td>DSL</td>\n",
       "      <td>...</td>\n",
       "      <td>Yes</td>\n",
       "      <td>Yes</td>\n",
       "      <td>Month-to-month</td>\n",
       "      <td>Yes</td>\n",
       "      <td>No</td>\n",
       "      <td>Yes</td>\n",
       "      <td>Yes</td>\n",
       "      <td>Yes</td>\n",
       "      <td>No</td>\n",
       "      <td>No</td>\n",
       "    </tr>\n",
       "    <tr>\n",
       "      <th>3</th>\n",
       "      <td>Harry Hammond</td>\n",
       "      <td>HarryHammond@akon.cloud</td>\n",
       "      <td>2344468307143</td>\n",
       "      <td>65166</td>\n",
       "      <td>7.527761e+08</td>\n",
       "      <td>Male</td>\n",
       "      <td>Credit card (automatic)</td>\n",
       "      <td>No</td>\n",
       "      <td>No</td>\n",
       "      <td>Fiber optic</td>\n",
       "      <td>...</td>\n",
       "      <td>Yes</td>\n",
       "      <td>No</td>\n",
       "      <td>Month-to-month</td>\n",
       "      <td>No</td>\n",
       "      <td>No</td>\n",
       "      <td>No</td>\n",
       "      <td>No</td>\n",
       "      <td>No</td>\n",
       "      <td>Yes</td>\n",
       "      <td>Yes</td>\n",
       "    </tr>\n",
       "    <tr>\n",
       "      <th>4</th>\n",
       "      <td>Boris Oatway</td>\n",
       "      <td>BorisOatway@akon.cloud</td>\n",
       "      <td>2342487538311</td>\n",
       "      <td>2119</td>\n",
       "      <td>7.667234e+08</td>\n",
       "      <td>Male</td>\n",
       "      <td>Bank transfer (automatic)</td>\n",
       "      <td>No</td>\n",
       "      <td>No</td>\n",
       "      <td>Fiber optic</td>\n",
       "      <td>...</td>\n",
       "      <td>No</td>\n",
       "      <td>No</td>\n",
       "      <td>Month-to-month</td>\n",
       "      <td>No</td>\n",
       "      <td>No</td>\n",
       "      <td>No</td>\n",
       "      <td>No</td>\n",
       "      <td>Yes</td>\n",
       "      <td>Yes</td>\n",
       "      <td>No</td>\n",
       "    </tr>\n",
       "  </tbody>\n",
       "</table>\n",
       "<p>5 rows × 22 columns</p>\n",
       "</div>"
      ],
      "text/plain": [
       "                 Name                 Email_Address   Phone_Number  \\\n",
       "0       Maxwell Mcgee       MaxwellMcgee@akon.cloud  2346236787784   \n",
       "1       Hannah Connor       HannahConnor@akon.cloud  2341587604506   \n",
       "2  Rosemary Alexander  RosemaryAlexander@akon.cloud  2345264828126   \n",
       "3       Harry Hammond       HarryHammond@akon.cloud  2344468307143   \n",
       "4        Boris Oatway        BorisOatway@akon.cloud  2342487538311   \n",
       "\n",
       "   MonthlyCharge  TotalCharges  Gender              PaymentMethod TechSupport  \\\n",
       "0          60564  6.564859e+08    Male  Bank transfer (automatic)         Yes   \n",
       "1          15683  9.137371e+08  Female    Credit card (automatic)         Yes   \n",
       "2          56857  1.612852e+07  Female    Credit card (automatic)         Yes   \n",
       "3          65166  7.527761e+08    Male    Credit card (automatic)          No   \n",
       "4           2119  7.667234e+08    Male  Bank transfer (automatic)          No   \n",
       "\n",
       "  Dependents InternetService  ... PaperlessBilling StreamingMovies  \\\n",
       "0         No             DSL  ...              Yes             Yes   \n",
       "1        Yes             DSL  ...              Yes             Yes   \n",
       "2         No             DSL  ...              Yes             Yes   \n",
       "3         No     Fiber optic  ...              Yes              No   \n",
       "4         No     Fiber optic  ...               No              No   \n",
       "\n",
       "         Contract OnlineBackup PhoneService StreamingTV DeviceProtection  \\\n",
       "0  Month-to-month          Yes          Yes         Yes              Yes   \n",
       "1  Month-to-month          Yes          Yes         Yes              Yes   \n",
       "2  Month-to-month          Yes           No         Yes              Yes   \n",
       "3  Month-to-month           No           No          No               No   \n",
       "4  Month-to-month           No           No          No               No   \n",
       "\n",
       "  Partner Churn Churn_Prediction  \n",
       "0     Yes   Yes              Yes  \n",
       "1      No   Yes              Yes  \n",
       "2     Yes    No               No  \n",
       "3      No   Yes              Yes  \n",
       "4     Yes   Yes               No  \n",
       "\n",
       "[5 rows x 22 columns]"
      ]
     },
     "execution_count": 39,
     "metadata": {},
     "output_type": "execute_result"
    }
   ],
   "source": [
    "df.head()"
   ]
  },
  {
   "cell_type": "code",
   "execution_count": 40,
   "id": "d657bafa",
   "metadata": {},
   "outputs": [],
   "source": [
    "#Drop the initial Churn column\n",
    "df.drop(['Churn'], axis=1, inplace=True)"
   ]
  },
  {
   "cell_type": "code",
   "execution_count": 41,
   "id": "abdd440f",
   "metadata": {},
   "outputs": [
    {
     "data": {
      "text/html": [
       "<div>\n",
       "<style scoped>\n",
       "    .dataframe tbody tr th:only-of-type {\n",
       "        vertical-align: middle;\n",
       "    }\n",
       "\n",
       "    .dataframe tbody tr th {\n",
       "        vertical-align: top;\n",
       "    }\n",
       "\n",
       "    .dataframe thead th {\n",
       "        text-align: right;\n",
       "    }\n",
       "</style>\n",
       "<table border=\"1\" class=\"dataframe\">\n",
       "  <thead>\n",
       "    <tr style=\"text-align: right;\">\n",
       "      <th></th>\n",
       "      <th>Name</th>\n",
       "      <th>Email_Address</th>\n",
       "      <th>Phone_Number</th>\n",
       "      <th>MonthlyCharge</th>\n",
       "      <th>TotalCharges</th>\n",
       "      <th>Gender</th>\n",
       "      <th>PaymentMethod</th>\n",
       "      <th>TechSupport</th>\n",
       "      <th>Dependents</th>\n",
       "      <th>InternetService</th>\n",
       "      <th>...</th>\n",
       "      <th>OnlineSecurity</th>\n",
       "      <th>PaperlessBilling</th>\n",
       "      <th>StreamingMovies</th>\n",
       "      <th>Contract</th>\n",
       "      <th>OnlineBackup</th>\n",
       "      <th>PhoneService</th>\n",
       "      <th>StreamingTV</th>\n",
       "      <th>DeviceProtection</th>\n",
       "      <th>Partner</th>\n",
       "      <th>Churn_Prediction</th>\n",
       "    </tr>\n",
       "  </thead>\n",
       "  <tbody>\n",
       "    <tr>\n",
       "      <th>6046</th>\n",
       "      <td>Russel Richardson</td>\n",
       "      <td>RusselRichardson@akon.cloud</td>\n",
       "      <td>2341587781152</td>\n",
       "      <td>15623</td>\n",
       "      <td>3.144709e+08</td>\n",
       "      <td>Male</td>\n",
       "      <td>Credit card (automatic)</td>\n",
       "      <td>No</td>\n",
       "      <td>Yes</td>\n",
       "      <td>No</td>\n",
       "      <td>...</td>\n",
       "      <td>No</td>\n",
       "      <td>Yes</td>\n",
       "      <td>No</td>\n",
       "      <td>One year</td>\n",
       "      <td>No</td>\n",
       "      <td>Yes</td>\n",
       "      <td>No</td>\n",
       "      <td>No</td>\n",
       "      <td>No</td>\n",
       "      <td>No</td>\n",
       "    </tr>\n",
       "    <tr>\n",
       "      <th>141569</th>\n",
       "      <td>Eduardo Rose</td>\n",
       "      <td>EduardoRose@akon.cloud</td>\n",
       "      <td>2346745157878</td>\n",
       "      <td>173544</td>\n",
       "      <td>5.207567e+08</td>\n",
       "      <td>Male</td>\n",
       "      <td>Electronic check</td>\n",
       "      <td>No internet service</td>\n",
       "      <td>Yes</td>\n",
       "      <td>DSL</td>\n",
       "      <td>...</td>\n",
       "      <td>No internet service</td>\n",
       "      <td>No</td>\n",
       "      <td>No internet service</td>\n",
       "      <td>Month-to-month</td>\n",
       "      <td>No internet service</td>\n",
       "      <td>No</td>\n",
       "      <td>No internet service</td>\n",
       "      <td>No internet service</td>\n",
       "      <td>No</td>\n",
       "      <td>No</td>\n",
       "    </tr>\n",
       "    <tr>\n",
       "      <th>151514</th>\n",
       "      <td>Tyler Vernon</td>\n",
       "      <td>TylerVernon@akon.cloud</td>\n",
       "      <td>2347287473123</td>\n",
       "      <td>533959</td>\n",
       "      <td>6.122550e+08</td>\n",
       "      <td>Male</td>\n",
       "      <td>Credit card (automatic)</td>\n",
       "      <td>Yes</td>\n",
       "      <td>Yes</td>\n",
       "      <td>No</td>\n",
       "      <td>...</td>\n",
       "      <td>Yes</td>\n",
       "      <td>Yes</td>\n",
       "      <td>Yes</td>\n",
       "      <td>Month-to-month</td>\n",
       "      <td>Yes</td>\n",
       "      <td>Yes</td>\n",
       "      <td>Yes</td>\n",
       "      <td>Yes</td>\n",
       "      <td>Yes</td>\n",
       "      <td>Yes</td>\n",
       "    </tr>\n",
       "    <tr>\n",
       "      <th>140938</th>\n",
       "      <td>George Burnley</td>\n",
       "      <td>GeorgeBurnley@akon.cloud</td>\n",
       "      <td>2343722034663</td>\n",
       "      <td>96438</td>\n",
       "      <td>5.644528e+06</td>\n",
       "      <td>Male</td>\n",
       "      <td>Bank transfer (automatic)</td>\n",
       "      <td>No</td>\n",
       "      <td>No</td>\n",
       "      <td>DSL</td>\n",
       "      <td>...</td>\n",
       "      <td>No</td>\n",
       "      <td>No</td>\n",
       "      <td>No</td>\n",
       "      <td>One year</td>\n",
       "      <td>No</td>\n",
       "      <td>No</td>\n",
       "      <td>No</td>\n",
       "      <td>No</td>\n",
       "      <td>No</td>\n",
       "      <td>No</td>\n",
       "    </tr>\n",
       "    <tr>\n",
       "      <th>75581</th>\n",
       "      <td>Jayden Norris</td>\n",
       "      <td>JaydenNorris@akon.cloud</td>\n",
       "      <td>2345037851025</td>\n",
       "      <td>7154</td>\n",
       "      <td>7.564732e+08</td>\n",
       "      <td>Male</td>\n",
       "      <td>Credit card (automatic)</td>\n",
       "      <td>No internet service</td>\n",
       "      <td>Yes</td>\n",
       "      <td>DSL</td>\n",
       "      <td>...</td>\n",
       "      <td>No internet service</td>\n",
       "      <td>No</td>\n",
       "      <td>No internet service</td>\n",
       "      <td>Month-to-month</td>\n",
       "      <td>No internet service</td>\n",
       "      <td>Yes</td>\n",
       "      <td>No internet service</td>\n",
       "      <td>No internet service</td>\n",
       "      <td>Yes</td>\n",
       "      <td>Yes</td>\n",
       "    </tr>\n",
       "    <tr>\n",
       "      <th>150687</th>\n",
       "      <td>Lauren Aldridge</td>\n",
       "      <td>LaurenAldridge@akon.cloud</td>\n",
       "      <td>2344751672330</td>\n",
       "      <td>895856</td>\n",
       "      <td>1.346055e+07</td>\n",
       "      <td>Female</td>\n",
       "      <td>Credit card (automatic)</td>\n",
       "      <td>No</td>\n",
       "      <td>No</td>\n",
       "      <td>No</td>\n",
       "      <td>...</td>\n",
       "      <td>No</td>\n",
       "      <td>Yes</td>\n",
       "      <td>No</td>\n",
       "      <td>Month-to-month</td>\n",
       "      <td>No</td>\n",
       "      <td>Yes</td>\n",
       "      <td>No</td>\n",
       "      <td>No</td>\n",
       "      <td>No</td>\n",
       "      <td>No</td>\n",
       "    </tr>\n",
       "    <tr>\n",
       "      <th>80180</th>\n",
       "      <td>Nicholas Dwyer</td>\n",
       "      <td>NicholasDwyer@akon.cloud</td>\n",
       "      <td>2346618202258</td>\n",
       "      <td>45983</td>\n",
       "      <td>4.117402e+08</td>\n",
       "      <td>Male</td>\n",
       "      <td>Electronic check</td>\n",
       "      <td>Yes</td>\n",
       "      <td>No</td>\n",
       "      <td>DSL</td>\n",
       "      <td>...</td>\n",
       "      <td>Yes</td>\n",
       "      <td>No</td>\n",
       "      <td>Yes</td>\n",
       "      <td>One year</td>\n",
       "      <td>Yes</td>\n",
       "      <td>No</td>\n",
       "      <td>Yes</td>\n",
       "      <td>Yes</td>\n",
       "      <td>Yes</td>\n",
       "      <td>Yes</td>\n",
       "    </tr>\n",
       "    <tr>\n",
       "      <th>89060</th>\n",
       "      <td>Rick Cartwright</td>\n",
       "      <td>RickCartwright@akon.cloud</td>\n",
       "      <td>2348212181342</td>\n",
       "      <td>38110</td>\n",
       "      <td>6.888394e+07</td>\n",
       "      <td>Male</td>\n",
       "      <td>Bank transfer (automatic)</td>\n",
       "      <td>Yes</td>\n",
       "      <td>Yes</td>\n",
       "      <td>No</td>\n",
       "      <td>...</td>\n",
       "      <td>Yes</td>\n",
       "      <td>No</td>\n",
       "      <td>Yes</td>\n",
       "      <td>One year</td>\n",
       "      <td>Yes</td>\n",
       "      <td>Yes</td>\n",
       "      <td>Yes</td>\n",
       "      <td>Yes</td>\n",
       "      <td>Yes</td>\n",
       "      <td>Yes</td>\n",
       "    </tr>\n",
       "    <tr>\n",
       "      <th>39625</th>\n",
       "      <td>Elijah Fowler</td>\n",
       "      <td>ElijahFowler@akon.cloud</td>\n",
       "      <td>2347035316204</td>\n",
       "      <td>95877</td>\n",
       "      <td>9.000258e+08</td>\n",
       "      <td>Male</td>\n",
       "      <td>Bank transfer (automatic)</td>\n",
       "      <td>Yes</td>\n",
       "      <td>No</td>\n",
       "      <td>No</td>\n",
       "      <td>...</td>\n",
       "      <td>Yes</td>\n",
       "      <td>No</td>\n",
       "      <td>Yes</td>\n",
       "      <td>Month-to-month</td>\n",
       "      <td>Yes</td>\n",
       "      <td>No</td>\n",
       "      <td>Yes</td>\n",
       "      <td>Yes</td>\n",
       "      <td>Yes</td>\n",
       "      <td>Yes</td>\n",
       "    </tr>\n",
       "    <tr>\n",
       "      <th>108561</th>\n",
       "      <td>Renee Vince</td>\n",
       "      <td>ReneeVince@akon.cloud</td>\n",
       "      <td>2341834042277</td>\n",
       "      <td>398442</td>\n",
       "      <td>4.588989e+08</td>\n",
       "      <td>Female</td>\n",
       "      <td>Bank transfer (automatic)</td>\n",
       "      <td>No</td>\n",
       "      <td>Yes</td>\n",
       "      <td>No</td>\n",
       "      <td>...</td>\n",
       "      <td>No</td>\n",
       "      <td>Yes</td>\n",
       "      <td>No</td>\n",
       "      <td>One year</td>\n",
       "      <td>No</td>\n",
       "      <td>No</td>\n",
       "      <td>No</td>\n",
       "      <td>No</td>\n",
       "      <td>Yes</td>\n",
       "      <td>No</td>\n",
       "    </tr>\n",
       "  </tbody>\n",
       "</table>\n",
       "<p>10 rows × 21 columns</p>\n",
       "</div>"
      ],
      "text/plain": [
       "                     Name                Email_Address   Phone_Number  \\\n",
       "6046    Russel Richardson  RusselRichardson@akon.cloud  2341587781152   \n",
       "141569       Eduardo Rose       EduardoRose@akon.cloud  2346745157878   \n",
       "151514       Tyler Vernon       TylerVernon@akon.cloud  2347287473123   \n",
       "140938     George Burnley     GeorgeBurnley@akon.cloud  2343722034663   \n",
       "75581       Jayden Norris      JaydenNorris@akon.cloud  2345037851025   \n",
       "150687    Lauren Aldridge    LaurenAldridge@akon.cloud  2344751672330   \n",
       "80180      Nicholas Dwyer     NicholasDwyer@akon.cloud  2346618202258   \n",
       "89060     Rick Cartwright    RickCartwright@akon.cloud  2348212181342   \n",
       "39625       Elijah Fowler      ElijahFowler@akon.cloud  2347035316204   \n",
       "108561        Renee Vince        ReneeVince@akon.cloud  2341834042277   \n",
       "\n",
       "        MonthlyCharge  TotalCharges  Gender              PaymentMethod  \\\n",
       "6046            15623  3.144709e+08    Male    Credit card (automatic)   \n",
       "141569         173544  5.207567e+08    Male           Electronic check   \n",
       "151514         533959  6.122550e+08    Male    Credit card (automatic)   \n",
       "140938          96438  5.644528e+06    Male  Bank transfer (automatic)   \n",
       "75581            7154  7.564732e+08    Male    Credit card (automatic)   \n",
       "150687         895856  1.346055e+07  Female    Credit card (automatic)   \n",
       "80180           45983  4.117402e+08    Male           Electronic check   \n",
       "89060           38110  6.888394e+07    Male  Bank transfer (automatic)   \n",
       "39625           95877  9.000258e+08    Male  Bank transfer (automatic)   \n",
       "108561         398442  4.588989e+08  Female  Bank transfer (automatic)   \n",
       "\n",
       "                TechSupport Dependents InternetService  ...  \\\n",
       "6046                     No        Yes              No  ...   \n",
       "141569  No internet service        Yes             DSL  ...   \n",
       "151514                  Yes        Yes              No  ...   \n",
       "140938                   No         No             DSL  ...   \n",
       "75581   No internet service        Yes             DSL  ...   \n",
       "150687                   No         No              No  ...   \n",
       "80180                   Yes         No             DSL  ...   \n",
       "89060                   Yes        Yes              No  ...   \n",
       "39625                   Yes         No              No  ...   \n",
       "108561                   No        Yes              No  ...   \n",
       "\n",
       "             OnlineSecurity PaperlessBilling      StreamingMovies  \\\n",
       "6046                     No              Yes                   No   \n",
       "141569  No internet service               No  No internet service   \n",
       "151514                  Yes              Yes                  Yes   \n",
       "140938                   No               No                   No   \n",
       "75581   No internet service               No  No internet service   \n",
       "150687                   No              Yes                   No   \n",
       "80180                   Yes               No                  Yes   \n",
       "89060                   Yes               No                  Yes   \n",
       "39625                   Yes               No                  Yes   \n",
       "108561                   No              Yes                   No   \n",
       "\n",
       "              Contract         OnlineBackup PhoneService          StreamingTV  \\\n",
       "6046          One year                   No          Yes                   No   \n",
       "141569  Month-to-month  No internet service           No  No internet service   \n",
       "151514  Month-to-month                  Yes          Yes                  Yes   \n",
       "140938        One year                   No           No                   No   \n",
       "75581   Month-to-month  No internet service          Yes  No internet service   \n",
       "150687  Month-to-month                   No          Yes                   No   \n",
       "80180         One year                  Yes           No                  Yes   \n",
       "89060         One year                  Yes          Yes                  Yes   \n",
       "39625   Month-to-month                  Yes           No                  Yes   \n",
       "108561        One year                   No           No                   No   \n",
       "\n",
       "           DeviceProtection Partner Churn_Prediction  \n",
       "6046                     No      No               No  \n",
       "141569  No internet service      No               No  \n",
       "151514                  Yes     Yes              Yes  \n",
       "140938                   No      No               No  \n",
       "75581   No internet service     Yes              Yes  \n",
       "150687                   No      No               No  \n",
       "80180                   Yes     Yes              Yes  \n",
       "89060                   Yes     Yes              Yes  \n",
       "39625                   Yes     Yes              Yes  \n",
       "108561                   No     Yes               No  \n",
       "\n",
       "[10 rows x 21 columns]"
      ]
     },
     "execution_count": 41,
     "metadata": {},
     "output_type": "execute_result"
    }
   ],
   "source": [
    "df.sample(10)"
   ]
  },
  {
   "cell_type": "code",
   "execution_count": 43,
   "id": "2932e462",
   "metadata": {},
   "outputs": [
    {
     "data": {
      "text/plain": [
       "Name                0\n",
       "Email_Address       0\n",
       "Phone_Number        0\n",
       "MonthlyCharge       0\n",
       "TotalCharges        0\n",
       "Gender              0\n",
       "PaymentMethod       0\n",
       "TechSupport         0\n",
       "Dependents          0\n",
       "InternetService     0\n",
       "MultipleLines       0\n",
       "OnlineSecurity      0\n",
       "PaperlessBilling    0\n",
       "StreamingMovies     0\n",
       "Contract            0\n",
       "OnlineBackup        0\n",
       "PhoneService        0\n",
       "StreamingTV         0\n",
       "DeviceProtection    0\n",
       "Partner             0\n",
       "Churn_Prediction    0\n",
       "dtype: int64"
      ]
     },
     "execution_count": 43,
     "metadata": {},
     "output_type": "execute_result"
    }
   ],
   "source": [
    "df.isnull().sum()"
   ]
  },
  {
   "cell_type": "code",
   "execution_count": 42,
   "id": "6b415382",
   "metadata": {},
   "outputs": [],
   "source": [
    "# Save the updated dataset to a new CSV file\n",
    "df.to_csv('Churn_dataset_predicted.csv', index=False)"
   ]
  },
  {
   "cell_type": "markdown",
   "id": "a095995d",
   "metadata": {},
   "source": [
    "You can find the visualization on my Dashboard and the project proposal document details my thought process for this project. Feel free to reach out to me via LinkedIn if you have any questions or need additional clarification.\n",
    "\n",
    "<a href=\"https://linkedin.com/in/akonusoh\">LinkedIn Page</a>"
   ]
  }
 ],
 "metadata": {
  "kernelspec": {
   "display_name": "Python 3 (ipykernel)",
   "language": "python",
   "name": "python3"
  },
  "language_info": {
   "codemirror_mode": {
    "name": "ipython",
    "version": 3
   },
   "file_extension": ".py",
   "mimetype": "text/x-python",
   "name": "python",
   "nbconvert_exporter": "python",
   "pygments_lexer": "ipython3",
   "version": "3.9.12"
  }
 },
 "nbformat": 4,
 "nbformat_minor": 5
}
